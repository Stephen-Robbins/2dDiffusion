{
  "cells": [
    {
      "cell_type": "code",
      "source": [
        "!pip install einops\n",
        "!pip install denoising_diffusion_pytorch"
      ],
      "metadata": {
        "colab": {
          "base_uri": "https://localhost:8080/"
        },
        "id": "yS1FwUEVImuv",
        "outputId": "cad2475a-c9a5-4246-9b30-cf9565532e5a"
      },
      "execution_count": 1,
      "outputs": [
        {
          "output_type": "stream",
          "name": "stdout",
          "text": [
            "Collecting einops\n",
            "  Downloading einops-0.7.0-py3-none-any.whl (44 kB)\n",
            "\u001b[?25l     \u001b[90m━━━━━━━━━━━━━━━━━━━━━━━━━━━━━━━━━━━━━━━━\u001b[0m \u001b[32m0.0/44.6 kB\u001b[0m \u001b[31m?\u001b[0m eta \u001b[36m-:--:--\u001b[0m\r\u001b[2K     \u001b[90m━━━━━━━━━━━━━━━━━━━━━━━━━━━━━━━━━━━━━━━━\u001b[0m \u001b[32m44.6/44.6 kB\u001b[0m \u001b[31m1.8 MB/s\u001b[0m eta \u001b[36m0:00:00\u001b[0m\n",
            "\u001b[?25hInstalling collected packages: einops\n",
            "Successfully installed einops-0.7.0\n",
            "Collecting denoising_diffusion_pytorch\n",
            "  Downloading denoising_diffusion_pytorch-1.9.4-py3-none-any.whl (57 kB)\n",
            "\u001b[2K     \u001b[90m━━━━━━━━━━━━━━━━━━━━━━━━━━━━━━━━━━━━━━━━\u001b[0m \u001b[32m57.3/57.3 kB\u001b[0m \u001b[31m1.9 MB/s\u001b[0m eta \u001b[36m0:00:00\u001b[0m\n",
            "\u001b[?25hCollecting accelerate (from denoising_diffusion_pytorch)\n",
            "  Downloading accelerate-0.24.1-py3-none-any.whl (261 kB)\n",
            "\u001b[2K     \u001b[90m━━━━━━━━━━━━━━━━━━━━━━━━━━━━━━━━━━━━━━━━\u001b[0m \u001b[32m261.4/261.4 kB\u001b[0m \u001b[31m6.8 MB/s\u001b[0m eta \u001b[36m0:00:00\u001b[0m\n",
            "\u001b[?25hRequirement already satisfied: einops in /usr/local/lib/python3.10/dist-packages (from denoising_diffusion_pytorch) (0.7.0)\n",
            "Collecting ema-pytorch (from denoising_diffusion_pytorch)\n",
            "  Downloading ema_pytorch-0.3.1-py3-none-any.whl (4.8 kB)\n",
            "Requirement already satisfied: numpy in /usr/local/lib/python3.10/dist-packages (from denoising_diffusion_pytorch) (1.23.5)\n",
            "Requirement already satisfied: pillow in /usr/local/lib/python3.10/dist-packages (from denoising_diffusion_pytorch) (9.4.0)\n",
            "Collecting pytorch-fid (from denoising_diffusion_pytorch)\n",
            "  Downloading pytorch_fid-0.3.0-py3-none-any.whl (15 kB)\n",
            "Requirement already satisfied: torch in /usr/local/lib/python3.10/dist-packages (from denoising_diffusion_pytorch) (2.1.0+cu118)\n",
            "Requirement already satisfied: torchvision in /usr/local/lib/python3.10/dist-packages (from denoising_diffusion_pytorch) (0.16.0+cu118)\n",
            "Requirement already satisfied: tqdm in /usr/local/lib/python3.10/dist-packages (from denoising_diffusion_pytorch) (4.66.1)\n",
            "Requirement already satisfied: packaging>=20.0 in /usr/local/lib/python3.10/dist-packages (from accelerate->denoising_diffusion_pytorch) (23.2)\n",
            "Requirement already satisfied: psutil in /usr/local/lib/python3.10/dist-packages (from accelerate->denoising_diffusion_pytorch) (5.9.5)\n",
            "Requirement already satisfied: pyyaml in /usr/local/lib/python3.10/dist-packages (from accelerate->denoising_diffusion_pytorch) (6.0.1)\n",
            "Requirement already satisfied: huggingface-hub in /usr/local/lib/python3.10/dist-packages (from accelerate->denoising_diffusion_pytorch) (0.19.4)\n",
            "Requirement already satisfied: filelock in /usr/local/lib/python3.10/dist-packages (from torch->denoising_diffusion_pytorch) (3.13.1)\n",
            "Requirement already satisfied: typing-extensions in /usr/local/lib/python3.10/dist-packages (from torch->denoising_diffusion_pytorch) (4.5.0)\n",
            "Requirement already satisfied: sympy in /usr/local/lib/python3.10/dist-packages (from torch->denoising_diffusion_pytorch) (1.12)\n",
            "Requirement already satisfied: networkx in /usr/local/lib/python3.10/dist-packages (from torch->denoising_diffusion_pytorch) (3.2.1)\n",
            "Requirement already satisfied: jinja2 in /usr/local/lib/python3.10/dist-packages (from torch->denoising_diffusion_pytorch) (3.1.2)\n",
            "Requirement already satisfied: fsspec in /usr/local/lib/python3.10/dist-packages (from torch->denoising_diffusion_pytorch) (2023.6.0)\n",
            "Requirement already satisfied: triton==2.1.0 in /usr/local/lib/python3.10/dist-packages (from torch->denoising_diffusion_pytorch) (2.1.0)\n",
            "Collecting beartype (from ema-pytorch->denoising_diffusion_pytorch)\n",
            "  Downloading beartype-0.16.4-py3-none-any.whl (819 kB)\n",
            "\u001b[2K     \u001b[90m━━━━━━━━━━━━━━━━━━━━━━━━━━━━━━━━━━━━━━━━\u001b[0m \u001b[32m819.1/819.1 kB\u001b[0m \u001b[31m9.6 MB/s\u001b[0m eta \u001b[36m0:00:00\u001b[0m\n",
            "\u001b[?25hRequirement already satisfied: scipy in /usr/local/lib/python3.10/dist-packages (from pytorch-fid->denoising_diffusion_pytorch) (1.11.3)\n",
            "Requirement already satisfied: requests in /usr/local/lib/python3.10/dist-packages (from torchvision->denoising_diffusion_pytorch) (2.31.0)\n",
            "Requirement already satisfied: MarkupSafe>=2.0 in /usr/local/lib/python3.10/dist-packages (from jinja2->torch->denoising_diffusion_pytorch) (2.1.3)\n",
            "Requirement already satisfied: charset-normalizer<4,>=2 in /usr/local/lib/python3.10/dist-packages (from requests->torchvision->denoising_diffusion_pytorch) (3.3.2)\n",
            "Requirement already satisfied: idna<4,>=2.5 in /usr/local/lib/python3.10/dist-packages (from requests->torchvision->denoising_diffusion_pytorch) (3.4)\n",
            "Requirement already satisfied: urllib3<3,>=1.21.1 in /usr/local/lib/python3.10/dist-packages (from requests->torchvision->denoising_diffusion_pytorch) (2.0.7)\n",
            "Requirement already satisfied: certifi>=2017.4.17 in /usr/local/lib/python3.10/dist-packages (from requests->torchvision->denoising_diffusion_pytorch) (2023.7.22)\n",
            "Requirement already satisfied: mpmath>=0.19 in /usr/local/lib/python3.10/dist-packages (from sympy->torch->denoising_diffusion_pytorch) (1.3.0)\n",
            "Installing collected packages: beartype, ema-pytorch, accelerate, pytorch-fid, denoising_diffusion_pytorch\n",
            "Successfully installed accelerate-0.24.1 beartype-0.16.4 denoising_diffusion_pytorch-1.9.4 ema-pytorch-0.3.1 pytorch-fid-0.3.0\n"
          ]
        }
      ]
    },
    {
      "cell_type": "markdown",
      "source": [],
      "metadata": {
        "id": "W0ItZIhYU9g5"
      }
    },
    {
      "cell_type": "code",
      "execution_count": 1,
      "metadata": {
        "id": "lSNMYHD9H9Fi"
      },
      "outputs": [],
      "source": [
        "from diffusion import VPSDE\n",
        "import torchvision\n",
        "from matplotlib import pyplot as plt\n",
        "import torchvision.transforms as transforms\n",
        "from denoising_diffusion_pytorch import Unet\n",
        "from diffusion import VPSDE\n",
        "from torch.utils.data import DataLoader\n",
        "from torch.optim import Adam\n",
        "from training import train_score_network_mnist\n",
        "import torch\n",
        "from guided_diffusion import Net"
      ]
    },
    {
      "cell_type": "code",
      "execution_count": 2,
      "metadata": {
        "id": "PmE_1WxIH9Fo"
      },
      "outputs": [],
      "source": [
        "device = 'cuda'\n",
        "data = 'MNIST'\n",
        "model = Unet(channels = 1, dim = 32).to(device)\n",
        "model.load_state_dict(torch.load('./epoch49'))\n",
        "sde = VPSDE(100, 0.1, 20, device = device)\n",
        "\n",
        "''' hyper params'''\n",
        "n_epochs =   50\n",
        "batch_size =  32\n",
        "lr=1e-4\n",
        "optimizer = Adam(model.parameters(), lr=lr)"
      ]
    },
    {
      "cell_type": "code",
      "execution_count": 3,
      "metadata": {
        "id": "jHUusx1OH9Fp"
      },
      "outputs": [],
      "source": [
        "def plot(score_net):\n",
        "  with torch.no_grad():\n",
        "    samples = sde.backward_diffusion(score_net, data_shape = (5, 1, 32, 32)).detach().cpu().numpy()\n",
        "  samples = samples.swapaxes(1,2)\n",
        "  samples = samples.swapaxes(2,3)\n",
        "  fig, axe = plt.subplots(5)\n",
        "  for i in range(5):\n",
        "      axe[i].imshow(samples[i])\n",
        "  plt.show()"
      ]
    },
    {
      "cell_type": "code",
      "source": [
        "plot(model)"
      ],
      "metadata": {
        "colab": {
          "base_uri": "https://localhost:8080/",
          "height": 489
        },
        "id": "Zs_4LwDnIT0x",
        "outputId": "d46a0b1f-8489-427c-b03c-3c5330716d5a"
      },
      "execution_count": 4,
      "outputs": [
        {
          "output_type": "stream",
          "name": "stderr",
          "text": [
            "/content/diffusion.py:129: UserWarning: To copy construct from a tensor, it is recommended to use sourceTensor.clone().detach() or sourceTensor.clone().detach().requires_grad_(True), rather than torch.tensor(sourceTensor).\n",
            "  x = x - (drift - (diffusion**2)*score )*dt + diffusion * torch.sqrt(torch.tensor(dt)) * torch.randn_like(x)\n"
          ]
        },
        {
          "output_type": "display_data",
          "data": {
            "text/plain": [
              "<Figure size 640x480 with 5 Axes>"
            ],
            "image/png": "[encoded data removed]"
          },
          "metadata": {}
        }
      ]
    },
    {
      "cell_type": "code",
      "execution_count": 5,
      "metadata": {
        "colab": {
          "base_uri": "https://localhost:8080/"
        },
        "id": "7yLzFR5dH9Fp",
        "outputId": "39561143-806f-409c-a8be-a1f23d4e7995"
      },
      "outputs": [
        {
          "output_type": "stream",
          "name": "stderr",
          "text": [
            "/usr/local/lib/python3.10/dist-packages/torch/nn/modules/lazy.py:180: UserWarning: Lazy modules are a new feature under heavy development so changes to the API or functionality can happen at any moment.\n",
            "  warnings.warn('Lazy modules are a new feature under heavy development '\n"
          ]
        },
        {
          "output_type": "execute_result",
          "data": {
            "text/plain": [
              "<All keys matched successfully>"
            ]
          },
          "metadata": {},
          "execution_count": 5
        }
      ],
      "source": [
        "classifier = Net().to(device)\n",
        "classifier.load_state_dict(torch.load('epoch86'))"
      ]
    },
    {
      "cell_type": "code",
      "execution_count": 10,
      "metadata": {
        "id": "pPT-b-FNH9Fr"
      },
      "outputs": [],
      "source": [
        "def plot_with_classes(score_net, classifier):\n",
        "\n",
        "  samples = sde.classifier_guided_backward_diffusion(score_net, classifier, data_shape = (5, 1, 32, 32),\n",
        "                                     classes = torch.Tensor([0,1,2,3,7]).to(torch.int64).to(device)).detach().cpu().numpy()\n",
        "  samples = samples.swapaxes(1,2)\n",
        "  samples = samples.swapaxes(2,3)\n",
        "  fig, axe = plt.subplots(5)\n",
        "  for i in range(5):\n",
        "      axe[i].imshow(samples[i])\n",
        "  plt.show()"
      ]
    },
    {
      "cell_type": "code",
      "execution_count": 11,
      "metadata": {
        "colab": {
          "base_uri": "https://localhost:8080/",
          "height": 1000
        },
        "id": "awM60UN3H9Fr",
        "outputId": "04559546-346a-4da1-96de-f47e10665f3b"
      },
      "outputs": [
        {
          "output_type": "stream",
          "name": "stdout",
          "text": [
            "predictions: tensor([1, 8, 7, 1, 1], device='cuda:0')\n",
            "torch.Size([5, 10]) torch.Size([5, 10])\n",
            "predictions: tensor([7, 1, 7, 3, 1], device='cuda:0')\n",
            "torch.Size([5, 10]) torch.Size([5, 10])\n",
            "predictions: tensor([1, 1, 7, 3, 7], device='cuda:0')\n",
            "torch.Size([5, 10]) torch.Size([5, 10])\n",
            "predictions: tensor([1, 1, 7, 3, 7], device='cuda:0')\n",
            "torch.Size([5, 10]) torch.Size([5, 10])\n",
            "predictions: tensor([1, 1, 4, 1, 7], device='cuda:0')\n",
            "torch.Size([5, 10]) torch.Size([5, 10])\n",
            "predictions: tensor([1, 2, 1, 1, 7], device='cuda:0')\n",
            "torch.Size([5, 10]) torch.Size([5, 10])\n",
            "predictions: tensor([1, 1, 1, 1, 7], device='cuda:0')\n",
            "torch.Size([5, 10]) torch.Size([5, 10])\n",
            "predictions: tensor([1, 1, 1, 7, 7], device='cuda:0')\n",
            "torch.Size([5, 10]) torch.Size([5, 10])\n",
            "predictions: tensor([1, 1, 1, 3, 7], device='cuda:0')\n",
            "torch.Size([5, 10]) torch.Size([5, 10])\n",
            "predictions: tensor([7, 9, 1, 3, 7], device='cuda:0')\n",
            "torch.Size([5, 10]) torch.Size([5, 10])\n",
            "predictions: tensor([4, 1, 6, 3, 7], device='cuda:0')\n",
            "torch.Size([5, 10]) torch.Size([5, 10])\n",
            "predictions: tensor([7, 6, 6, 3, 7], device='cuda:0')\n",
            "torch.Size([5, 10]) torch.Size([5, 10])\n",
            "predictions: tensor([0, 6, 6, 3, 7], device='cuda:0')\n",
            "torch.Size([5, 10]) torch.Size([5, 10])\n",
            "predictions: tensor([7, 6, 6, 3, 7], device='cuda:0')\n",
            "torch.Size([5, 10]) torch.Size([5, 10])\n",
            "predictions: tensor([7, 6, 1, 0, 7], device='cuda:0')\n",
            "torch.Size([5, 10]) torch.Size([5, 10])\n",
            "predictions: tensor([7, 1, 1, 0, 7], device='cuda:0')\n",
            "torch.Size([5, 10]) torch.Size([5, 10])\n",
            "predictions: tensor([4, 1, 6, 0, 7], device='cuda:0')\n",
            "torch.Size([5, 10]) torch.Size([5, 10])\n",
            "predictions: tensor([0, 1, 1, 1, 7], device='cuda:0')\n",
            "torch.Size([5, 10]) torch.Size([5, 10])\n",
            "predictions: tensor([0, 1, 1, 0, 7], device='cuda:0')\n",
            "torch.Size([5, 10]) torch.Size([5, 10])\n",
            "predictions: tensor([0, 1, 1, 7, 7], device='cuda:0')\n",
            "torch.Size([5, 10]) torch.Size([5, 10])\n",
            "predictions: tensor([0, 1, 1, 0, 7], device='cuda:0')\n",
            "torch.Size([5, 10]) torch.Size([5, 10])\n",
            "predictions: tensor([1, 1, 1, 0, 7], device='cuda:0')\n",
            "torch.Size([5, 10]) torch.Size([5, 10])\n",
            "predictions: tensor([1, 1, 1, 9, 7], device='cuda:0')\n",
            "torch.Size([5, 10]) torch.Size([5, 10])\n",
            "predictions: tensor([0, 1, 6, 1, 7], device='cuda:0')\n",
            "torch.Size([5, 10]) torch.Size([5, 10])\n",
            "predictions: tensor([0, 1, 3, 3, 7], device='cuda:0')\n",
            "torch.Size([5, 10]) torch.Size([5, 10])\n",
            "predictions: tensor([0, 1, 3, 3, 7], device='cuda:0')\n",
            "torch.Size([5, 10]) torch.Size([5, 10])\n",
            "predictions: tensor([0, 1, 3, 0, 7], device='cuda:0')\n",
            "torch.Size([5, 10]) torch.Size([5, 10])\n",
            "predictions: tensor([0, 1, 3, 0, 7], device='cuda:0')\n",
            "torch.Size([5, 10]) torch.Size([5, 10])\n",
            "predictions: tensor([0, 1, 3, 0, 7], device='cuda:0')\n",
            "torch.Size([5, 10]) torch.Size([5, 10])\n",
            "predictions: tensor([0, 1, 3, 0, 7], device='cuda:0')\n",
            "torch.Size([5, 10]) torch.Size([5, 10])\n",
            "predictions: tensor([0, 1, 6, 0, 7], device='cuda:0')\n",
            "torch.Size([5, 10]) torch.Size([5, 10])\n",
            "predictions: tensor([0, 1, 6, 0, 7], device='cuda:0')\n",
            "torch.Size([5, 10]) torch.Size([5, 10])\n",
            "predictions: tensor([0, 1, 0, 3, 7], device='cuda:0')\n",
            "torch.Size([5, 10]) torch.Size([5, 10])\n",
            "predictions: tensor([0, 1, 6, 0, 7], device='cuda:0')\n",
            "torch.Size([5, 10]) torch.Size([5, 10])\n",
            "predictions: tensor([0, 1, 1, 3, 7], device='cuda:0')\n",
            "torch.Size([5, 10]) torch.Size([5, 10])\n",
            "predictions: tensor([0, 1, 1, 3, 7], device='cuda:0')\n",
            "torch.Size([5, 10]) torch.Size([5, 10])\n",
            "predictions: tensor([0, 1, 6, 5, 7], device='cuda:0')\n",
            "torch.Size([5, 10]) torch.Size([5, 10])\n",
            "predictions: tensor([7, 1, 6, 9, 7], device='cuda:0')\n",
            "torch.Size([5, 10]) torch.Size([5, 10])\n",
            "predictions: tensor([0, 1, 2, 9, 7], device='cuda:0')\n",
            "torch.Size([5, 10]) torch.Size([5, 10])\n",
            "predictions: tensor([0, 1, 2, 3, 7], device='cuda:0')\n",
            "torch.Size([5, 10]) torch.Size([5, 10])\n",
            "predictions: tensor([0, 1, 1, 3, 7], device='cuda:0')\n",
            "torch.Size([5, 10]) torch.Size([5, 10])\n",
            "predictions: tensor([9, 1, 1, 3, 7], device='cuda:0')\n",
            "torch.Size([5, 10]) torch.Size([5, 10])\n",
            "predictions: tensor([0, 1, 0, 3, 7], device='cuda:0')\n",
            "torch.Size([5, 10]) torch.Size([5, 10])\n",
            "predictions: tensor([0, 6, 2, 3, 7], device='cuda:0')\n",
            "torch.Size([5, 10]) torch.Size([5, 10])\n",
            "predictions: tensor([0, 1, 1, 3, 7], device='cuda:0')\n",
            "torch.Size([5, 10]) torch.Size([5, 10])\n",
            "predictions: tensor([0, 1, 2, 3, 7], device='cuda:0')\n",
            "torch.Size([5, 10]) torch.Size([5, 10])\n",
            "predictions: tensor([8, 1, 3, 1, 7], device='cuda:0')\n",
            "torch.Size([5, 10]) torch.Size([5, 10])\n",
            "predictions: tensor([0, 1, 3, 8, 7], device='cuda:0')\n",
            "torch.Size([5, 10]) torch.Size([5, 10])\n",
            "predictions: tensor([0, 1, 3, 8, 7], device='cuda:0')\n",
            "torch.Size([5, 10]) torch.Size([5, 10])\n",
            "predictions: tensor([0, 1, 3, 1, 7], device='cuda:0')\n",
            "torch.Size([5, 10]) torch.Size([5, 10])\n",
            "predictions: tensor([0, 1, 3, 9, 7], device='cuda:0')\n",
            "torch.Size([5, 10]) torch.Size([5, 10])\n",
            "predictions: tensor([0, 1, 3, 8, 7], device='cuda:0')\n",
            "torch.Size([5, 10]) torch.Size([5, 10])\n",
            "predictions: tensor([0, 1, 3, 8, 7], device='cuda:0')\n",
            "torch.Size([5, 10]) torch.Size([5, 10])\n",
            "predictions: tensor([0, 1, 3, 3, 7], device='cuda:0')\n",
            "torch.Size([5, 10]) torch.Size([5, 10])\n",
            "predictions: tensor([6, 1, 3, 3, 7], device='cuda:0')\n",
            "torch.Size([5, 10]) torch.Size([5, 10])\n",
            "predictions: tensor([0, 1, 3, 5, 7], device='cuda:0')\n",
            "torch.Size([5, 10]) torch.Size([5, 10])\n",
            "predictions: tensor([0, 1, 3, 5, 7], device='cuda:0')\n",
            "torch.Size([5, 10]) torch.Size([5, 10])\n",
            "predictions: tensor([0, 1, 2, 3, 7], device='cuda:0')\n",
            "torch.Size([5, 10]) torch.Size([5, 10])\n",
            "predictions: tensor([0, 1, 2, 3, 7], device='cuda:0')\n",
            "torch.Size([5, 10]) torch.Size([5, 10])\n",
            "predictions: tensor([6, 1, 2, 3, 7], device='cuda:0')\n",
            "torch.Size([5, 10]) torch.Size([5, 10])\n",
            "predictions: tensor([0, 1, 2, 3, 7], device='cuda:0')\n",
            "torch.Size([5, 10]) torch.Size([5, 10])\n",
            "predictions: tensor([0, 1, 2, 8, 7], device='cuda:0')\n",
            "torch.Size([5, 10]) torch.Size([5, 10])\n",
            "predictions: tensor([6, 1, 2, 3, 7], device='cuda:0')\n",
            "torch.Size([5, 10]) torch.Size([5, 10])\n",
            "predictions: tensor([0, 1, 2, 3, 7], device='cuda:0')\n",
            "torch.Size([5, 10]) torch.Size([5, 10])\n",
            "predictions: tensor([0, 1, 2, 3, 7], device='cuda:0')\n",
            "torch.Size([5, 10]) torch.Size([5, 10])\n",
            "predictions: tensor([0, 1, 4, 8, 7], device='cuda:0')\n",
            "torch.Size([5, 10]) torch.Size([5, 10])\n",
            "predictions: tensor([0, 1, 4, 3, 7], device='cuda:0')\n",
            "torch.Size([5, 10]) torch.Size([5, 10])\n",
            "predictions: tensor([2, 1, 2, 3, 7], device='cuda:0')\n",
            "torch.Size([5, 10]) torch.Size([5, 10])\n",
            "predictions: tensor([0, 1, 2, 3, 7], device='cuda:0')\n",
            "torch.Size([5, 10]) torch.Size([5, 10])\n",
            "predictions: tensor([0, 1, 2, 3, 7], device='cuda:0')\n",
            "torch.Size([5, 10]) torch.Size([5, 10])\n",
            "predictions: tensor([0, 1, 2, 3, 7], device='cuda:0')\n",
            "torch.Size([5, 10]) torch.Size([5, 10])\n",
            "predictions: tensor([0, 1, 2, 3, 7], device='cuda:0')\n",
            "torch.Size([5, 10]) torch.Size([5, 10])\n",
            "predictions: tensor([0, 1, 2, 3, 7], device='cuda:0')\n",
            "torch.Size([5, 10]) torch.Size([5, 10])\n",
            "predictions: tensor([0, 1, 2, 3, 7], device='cuda:0')\n",
            "torch.Size([5, 10]) torch.Size([5, 10])\n",
            "predictions: tensor([0, 1, 2, 3, 7], device='cuda:0')\n",
            "torch.Size([5, 10]) torch.Size([5, 10])\n",
            "predictions: tensor([0, 1, 3, 3, 7], device='cuda:0')\n",
            "torch.Size([5, 10]) torch.Size([5, 10])\n",
            "predictions: tensor([0, 1, 2, 3, 7], device='cuda:0')\n",
            "torch.Size([5, 10]) torch.Size([5, 10])\n",
            "predictions: tensor([0, 1, 2, 3, 7], device='cuda:0')\n",
            "torch.Size([5, 10]) torch.Size([5, 10])\n",
            "predictions: tensor([0, 1, 2, 3, 7], device='cuda:0')\n",
            "torch.Size([5, 10]) torch.Size([5, 10])\n",
            "predictions: tensor([0, 1, 2, 3, 7], device='cuda:0')\n",
            "torch.Size([5, 10]) torch.Size([5, 10])\n",
            "predictions: tensor([0, 1, 2, 3, 7], device='cuda:0')\n",
            "torch.Size([5, 10]) torch.Size([5, 10])\n",
            "predictions: tensor([0, 1, 2, 3, 7], device='cuda:0')\n",
            "torch.Size([5, 10]) torch.Size([5, 10])\n",
            "predictions: tensor([0, 1, 2, 3, 7], device='cuda:0')\n",
            "torch.Size([5, 10]) torch.Size([5, 10])\n",
            "predictions: tensor([0, 1, 2, 3, 7], device='cuda:0')\n",
            "torch.Size([5, 10]) torch.Size([5, 10])\n",
            "predictions: tensor([0, 1, 2, 3, 7], device='cuda:0')\n",
            "torch.Size([5, 10]) torch.Size([5, 10])\n",
            "predictions: tensor([0, 1, 2, 3, 7], device='cuda:0')\n",
            "torch.Size([5, 10]) torch.Size([5, 10])\n",
            "predictions: tensor([0, 1, 2, 3, 7], device='cuda:0')\n",
            "torch.Size([5, 10]) torch.Size([5, 10])\n",
            "predictions: tensor([0, 1, 2, 3, 7], device='cuda:0')\n",
            "torch.Size([5, 10]) torch.Size([5, 10])\n",
            "predictions: tensor([0, 1, 2, 3, 7], device='cuda:0')\n",
            "torch.Size([5, 10]) torch.Size([5, 10])\n",
            "predictions: tensor([0, 1, 2, 3, 7], device='cuda:0')\n",
            "torch.Size([5, 10]) torch.Size([5, 10])\n",
            "predictions: tensor([0, 1, 2, 3, 7], device='cuda:0')\n",
            "torch.Size([5, 10]) torch.Size([5, 10])\n",
            "predictions: tensor([0, 1, 2, 3, 7], device='cuda:0')\n",
            "torch.Size([5, 10]) torch.Size([5, 10])\n",
            "predictions: tensor([0, 1, 2, 3, 7], device='cuda:0')\n",
            "torch.Size([5, 10]) torch.Size([5, 10])\n",
            "predictions: tensor([0, 1, 2, 3, 7], device='cuda:0')\n",
            "torch.Size([5, 10]) torch.Size([5, 10])\n",
            "predictions: tensor([0, 1, 2, 3, 7], device='cuda:0')\n",
            "torch.Size([5, 10]) torch.Size([5, 10])\n",
            "predictions: tensor([0, 1, 2, 3, 7], device='cuda:0')\n",
            "torch.Size([5, 10]) torch.Size([5, 10])\n",
            "predictions: tensor([0, 1, 2, 3, 7], device='cuda:0')\n",
            "torch.Size([5, 10]) torch.Size([5, 10])\n",
            "predictions: tensor([0, 1, 2, 3, 7], device='cuda:0')\n",
            "torch.Size([5, 10]) torch.Size([5, 10])\n",
            "predictions: tensor([0, 1, 2, 3, 7], device='cuda:0')\n",
            "torch.Size([5, 10]) torch.Size([5, 10])\n",
            "predictions: tensor([0, 1, 2, 3, 7], device='cuda:0')\n",
            "torch.Size([5, 10]) torch.Size([5, 10])\n"
          ]
        },
        {
          "output_type": "display_data",
          "data": {
            "text/plain": [
              "<Figure size 640x480 with 5 Axes>"
            ],
            "image/png": "[encoded data removed]"
          },
          "metadata": {}
        }
      ],
      "source": [
        "plot_with_classes(model, classifier)"
      ]
    },
    {
      "cell_type": "code",
      "source": [
        "torch.nn.functional.one_hot(torch.Tensor([5,5,5,5,5]).to(torch.int64).to(device))"
      ],
      "metadata": {
        "id": "kocgbquNKaOV"
      },
      "execution_count": null,
      "outputs": []
    },
    {
      "cell_type": "code",
      "source": [],
      "metadata": {
        "colab": {
          "base_uri": "https://localhost:8080/",
          "height": 192
        },
        "id": "WCL_rY8zLNc1",
        "outputId": "29f66357-e215-44d1-d214-9e0e06797104"
      },
      "execution_count": 12,
      "outputs": [
        {
          "output_type": "error",
          "ename": "NameError",
          "evalue": "ignored",
          "traceback": [
            "\u001b[0;31m---------------------------------------------------------------------------\u001b[0m",
            "\u001b[0;31mNameError\u001b[0m                                 Traceback (most recent call last)",
            "\u001b[0;32m<ipython-input-12-28b44c0293c3>\u001b[0m in \u001b[0;36m<cell line: 1>\u001b[0;34m()\u001b[0m\n\u001b[0;32m----> 1\u001b[0;31m \u001b[0;32mfor\u001b[0m \u001b[0mx\u001b[0m\u001b[0;34m,\u001b[0m\u001b[0my\u001b[0m \u001b[0;32min\u001b[0m \u001b[0mdataloader\u001b[0m\u001b[0;34m:\u001b[0m\u001b[0;34m\u001b[0m\u001b[0;34m\u001b[0m\u001b[0m\n\u001b[0m\u001b[1;32m      2\u001b[0m   \u001b[0mprint\u001b[0m\u001b[0;34m(\u001b[0m\u001b[0my\u001b[0m\u001b[0;34m)\u001b[0m\u001b[0;34m\u001b[0m\u001b[0;34m\u001b[0m\u001b[0m\n",
            "\u001b[0;31mNameError\u001b[0m: name 'dataloader' is not defined"
          ]
        }
      ]
    },
    {
      "cell_type": "code",
      "source": [],
      "metadata": {
        "id": "KvCClKwfLW40"
      },
      "execution_count": null,
      "outputs": []
    }
  ],
  "metadata": {
    "kernelspec": {
      "display_name": "Python 3",
      "name": "python3"
    },
    "language_info": {
      "codemirror_mode": {
        "name": "ipython",
        "version": 3
      },
      "file_extension": ".py",
      "mimetype": "text/x-python",
      "name": "python",
      "nbconvert_exporter": "python",
      "pygments_lexer": "ipython3",
      "version": "3.11.6"
    },
    "colab": {
      "provenance": [],
      "gpuType": "T4"
    },
    "accelerator": "GPU"
  },
  "nbformat": 4,
  "nbformat_minor": 0
}